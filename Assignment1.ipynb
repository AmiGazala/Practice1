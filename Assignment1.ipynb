{
  "cells": [
    {
      "cell_type": "markdown",
      "metadata": {
        "id": "Bcj7IIrqB63Q"
      },
      "source": [
        "# Assignment 1 NumPy\n",
        "\n"
      ]
    },
    {
      "cell_type": "code",
      "execution_count": null,
      "metadata": {
        "jupyter": {
          "outputs_hidden": false
        },
        "id": "GnX3izawB63S"
      },
      "outputs": [],
      "source": [
        "#Import the libraries \n",
        "import numpy as np"
      ]
    },
    {
      "cell_type": "markdown",
      "metadata": {
        "id": "K5IvRvdGB63T"
      },
      "source": [
        "# Problem 1 \n",
        "Matrix Manipulations\n",
        "\n",
        "Lets first create a matrix and perform some manipulations of it.\n",
        "\n",
        "Using numpy's matrix data structure, define the following matricies:\n",
        "\n",
        "$$A=\\left[ \\begin{array}{ccc} 3 & 5 & 9 \\\\ 3 & 3 & 4 \\\\ 5 & 9 & 17 \\end{array} \\right]$$\n",
        "\n",
        "$$B=\\left[ \\begin{array}{c} 2 \\\\ 1 \\\\ 4 \\end{array} \\right]$$\n",
        "\n",
        "After this solve the matrix equation:\n",
        "$$Ax = B$$"
      ]
    },
    {
      "cell_type": "code",
      "source": [
        "A = np.array([[3,5,9],[3,3,4],[5,9,17]])\n",
        "B = np.array([[2],[1],[4]])\n",
        "np.linalg.solve(A,B)"
      ],
      "metadata": {
        "colab": {
          "base_uri": "https://localhost:8080/"
        },
        "id": "Mwll4dQgEP8u",
        "outputId": "2a905788-4e97-47ab-8dbc-2e93227d1c55"
      },
      "execution_count": null,
      "outputs": [
        {
          "output_type": "execute_result",
          "data": {
            "text/plain": [
              "array([[ 1.],\n",
              "       [-2.],\n",
              "       [ 1.]])"
            ]
          },
          "metadata": {},
          "execution_count": 9
        }
      ]
    },
    {
      "cell_type": "markdown",
      "metadata": {
        "collapsed": true,
        "jupyter": {
          "outputs_hidden": true
        },
        "id": "hA8oYnLzB63U"
      },
      "source": [
        "# Problem 2\n",
        "Create a result array by adding the following two NumPy arrays. Next, modify the result array by calculating the square of each element\n",
        "Input: $$arrayOne = \\left[\\begin{array}{ccc} 5& 6& 9\\\\ 21 & 18 & 27\\end{array}\\right]$$\n",
        "       $$arrayTwo = \\left[\\begin{array}{ccc} 15 &33& 24\\\\ 4 &7& 1\\end{array}\\right]$$\n",
        "\n"
      ]
    },
    {
      "cell_type": "code",
      "source": [
        "arr1 = np.array([[5,6,9],[21,18,27]])\n",
        "arr2 = np.array([[15,33,24],[4,7,1]])\n",
        "np.square(arr1+arr2)"
      ],
      "metadata": {
        "colab": {
          "base_uri": "https://localhost:8080/"
        },
        "id": "4Xvizqx6RXKp",
        "outputId": "0594f6d5-77d6-4704-c490-8d007a737162"
      },
      "execution_count": null,
      "outputs": [
        {
          "output_type": "execute_result",
          "data": {
            "text/plain": [
              "array([[ 400, 1521, 1089],\n",
              "       [ 625,  625,  784]])"
            ]
          },
          "metadata": {},
          "execution_count": 14
        }
      ]
    },
    {
      "cell_type": "markdown",
      "metadata": {
        "id": "Mw4B5cTqB63U"
      },
      "source": [
        "# Problem 3\n",
        "Print max from axis 0 and min from axis 1 from the following 2-D array.\\\n",
        "$$sampleArray = \\left[\\begin{array}{ccc} 34&43&73 \\\\ 82&22&12 \\\\ 53&94&66 \\end{array}\\right]$$\n",
        "\n",
        "\n"
      ]
    },
    {
      "cell_type": "code",
      "source": [
        "A = np.array([[34,43,73],[82,22,12],[53,94,66]])\n",
        "\n",
        "Max0 = np.amax(A, 0) \n",
        "print(\"Printing MAX Of Axis 0\")\n",
        "print(Max0)\n",
        "\n",
        "Min1 = np.amin(A, 1) \n",
        "print(\"Printing MIN Of Axis 1\")\n",
        "print(Min1)\n"
      ],
      "metadata": {
        "colab": {
          "base_uri": "https://localhost:8080/"
        },
        "id": "ZEE5rKYvS12h",
        "outputId": "73042f40-a6a5-4d4a-9ebf-93997a23db8f"
      },
      "execution_count": null,
      "outputs": [
        {
          "output_type": "stream",
          "name": "stdout",
          "text": [
            "Printing MAX Of Axis 0\n",
            "[82 94 73]\n",
            "Printing MIN Of Axis 1\n",
            "[34 12 53]\n"
          ]
        }
      ]
    },
    {
      "cell_type": "markdown",
      "metadata": {
        "id": "bu5FuIsnB63V"
      },
      "source": [
        "# Problem 4\n",
        "Get the positions where elements of a and b match\\\n",
        "Input:  a = np.array([1,2,3,2,3,4,3,4,5,6])\\\n",
        "b = np.array([7,2,10,2,7,4,9,4,9,8])\\\n",
        "Desired Output: array([1, 3, 5, 7])"
      ]
    },
    {
      "cell_type": "code",
      "source": [
        "A= input(np.array([]))\n",
        "B= np.array([7,2,10,2,7,4,9,4,9,8])\n",
        "np.where(A==B)\n"
      ],
      "metadata": {
        "id": "FZiXcjI0XbEb"
      },
      "execution_count": null,
      "outputs": []
    },
    {
      "cell_type": "markdown",
      "metadata": {
        "id": "2mzb9QwtB63V"
      },
      "source": [
        "# Problem 5\n",
        "Given \n",
        "$$a= \\left[\\begin{array}{cc} 1&2\\\\ 3&4 \\end{array}\\right]$$\n",
        "$$b = \\left[\\begin{array}{cc} 5&6 \\\\ 7&8 \\end{array}\\right]$$\n",
        "Obtain c and d\n",
        "$$c = \\left[\\begin{array}{cc} 1&2\\\\ 3&4 \\\\ 5&6 \\\\ 7&8 \\end{array}\\right]$$\n",
        "$$d = \\left[\\begin{array}{cccc} 1&2&5&6\\\\ 3&4&7&8 \\end{array}\\right]$$"
      ]
    },
    {
      "cell_type": "code",
      "execution_count": null,
      "metadata": {
        "id": "0f-CTnWnB63W",
        "colab": {
          "base_uri": "https://localhost:8080/"
        },
        "outputId": "de289bca-f000-4347-918f-71f4c2e50fd5"
      },
      "outputs": [
        {
          "output_type": "stream",
          "name": "stdout",
          "text": [
            "c= [[1 2]\n",
            " [3 4]\n",
            " [5 6]\n",
            " [7 8]]\n",
            "d= [[1 2 5 6]\n",
            " [3 4 7 8]]\n"
          ]
        }
      ],
      "source": [
        "A = np.array([[1,2],[3,4]])\n",
        "B = np.array([[5,6],[7,8]])\n",
        "c= np.concatenate((A,B))\n",
        "d= np.concatenate((A,B),axis=1)\n",
        "print(\"c=\",c)\n",
        "print(\"d=\",d)"
      ]
    }
  ],
  "metadata": {
    "kernelspec": {
      "display_name": "Python 3 (ipykernel)",
      "language": "python",
      "name": "python3"
    },
    "language_info": {
      "codemirror_mode": {
        "name": "ipython",
        "version": 3
      },
      "file_extension": ".py",
      "mimetype": "text/x-python",
      "name": "python",
      "nbconvert_exporter": "python",
      "pygments_lexer": "ipython3",
      "version": "3.9.13"
    },
    "colab": {
      "provenance": []
    }
  },
  "nbformat": 4,
  "nbformat_minor": 0
}